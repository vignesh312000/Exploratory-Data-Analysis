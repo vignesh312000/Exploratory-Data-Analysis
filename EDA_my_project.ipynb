{
  "nbformat": 4,
  "nbformat_minor": 0,
  "metadata": {
    "colab": {
      "private_outputs": true,
      "provenance": [],
      "collapsed_sections": [
        "MSa1f5Uengrz",
        "0wOQAZs5pc--",
        "K5QZ13OEpz2H",
        "lQ7QKXXCp7Bj",
        "448CDAPjqfQr",
        "KSlN3yHqYklG",
        "t6dVpIINYklI",
        "ijmpgYnKYklI",
        "4Of9eVA-YrdM",
        "bamQiAODYuh1",
        "OH-pJp9IphqM",
        "PIIx-8_IphqN",
        "t27r6nlMphqO",
        "r2jJGEOYphqO",
        "b0JNsNcRphqO",
        "jj7wYXLtphqO",
        "eZrbJ2SmphqO",
        "rFu4xreNphqO",
        "YJ55k-q6phqO",
        "gCFgpxoyphqP",
        "OVtJsKN_phqQ",
        "lssrdh5qphqQ",
        "U2RJ9gkRphqQ",
        "1M8mcRywphqQ",
        "tgIPom80phqQ",
        "JMzcOPDDphqR",
        "x-EpHcCOp1ci",
        "X_VqEhTip1ck",
        "8zGJKyg5p1ck",
        "PVzmfK_Ep1ck",
        "n3dbpmDWp1ck",
        "ylSl6qgtp1ck",
        "ZWILFDl5p1ck",
        "M7G43BXep1ck",
        "Ag9LCva-p1cl",
        "E6MkPsBcp1cl",
        "2cELzS2fp1cl",
        "3MPXvC8up1cl",
        "NC_X3p0fY2L0",
        "EXh0U9oCveiU",
        "22aHeOlLveiV",
        "gCX9965dhzqZ",
        "gIfDvo9L0UH2"
      ],
      "include_colab_link": true
    },
    "kernelspec": {
      "name": "python3",
      "display_name": "Python 3"
    },
    "language_info": {
      "name": "python"
    }
  },
  "cells": [
    {
      "cell_type": "markdown",
      "metadata": {
        "id": "view-in-github",
        "colab_type": "text"
      },
      "source": [
        "<a href=\"https://colab.research.google.com/github/vignesh312000/eda/blob/main/EDA_my_project.ipynb\" target=\"_parent\"><img src=\"https://colab.research.google.com/assets/colab-badge.svg\" alt=\"Open In Colab\"/></a>"
      ]
    },
    {
      "cell_type": "markdown",
      "source": [
        "##### **Project Type**    - EDA\n",
        "##### **Contribution**    - Individual"
      ],
      "metadata": {
        "id": "beRrZCGUAJYm"
      }
    },
    {
      "cell_type": "markdown",
      "source": [
        "# **Project Summary -**"
      ],
      "metadata": {
        "id": "FJNUwmbgGyua"
      }
    },
    {
      "cell_type": "markdown",
      "source": [
        "My EDA is on a dataset containing information about hotel bookings. This analysis aimed to gain insights into booking trends, cancellation patterns, and various factors that influence hotel reservations.I started by examining the dataset, which included 35 columns (after data wrangling) providing information on booking details, customer demographics, and hotel-related factors.\n",
        "The dataset encompassed diverse features, such as booking date, guest demographics, room types, and booking status (canceled or not canceled).To understand booking trends over time, I plotted the number of bookings by year and month. This allowed me to identify peak booking periods and seasonal variations.\n",
        "Additionally, I examined the distribution of bookings across different days of the week.A significant part of my analysis focused on cancellations. I calculated the cancellation rate and explored how it varied based on different factors.\n",
        "Using bar plots , I visualized the distribution of canceled and non-canceled bookings.\n",
        "Using Box plot,I also investigated how lead time, booking changes, and other factors correlated with booking cancellations.Customer segmentation played a crucial role in the analysis. I explored how customer type, meal preferences, and other categorical features influenced booking behaviors.\n",
        "\n",
        "Grouped bar plots and other visualizations helped identify patterns among different customer segments.\n",
        "My analysis extended to operational aspects, such as the number of days in the waiting list. These insights can assist in optimizing hotel operations.Finally, I explored the dataset's potential for predictive modeling. I identified features that might be valuable for predicting booking cancellations or other business-related outcomes."
      ],
      "metadata": {
        "id": "F6v_1wHtG2nS"
      }
    },
    {
      "cell_type": "markdown",
      "source": [
        "# ***Let's Begin !***"
      ],
      "metadata": {
        "id": "O_i_v8NEhb9l"
      }
    },
    {
      "cell_type": "markdown",
      "source": [
        "## ***1. Know Your Data***"
      ],
      "metadata": {
        "id": "HhfV-JJviCcP"
      }
    },
    {
      "cell_type": "markdown",
      "source": [
        "### Import Libraries"
      ],
      "metadata": {
        "id": "Y3lxredqlCYt"
      }
    },
    {
      "cell_type": "code",
      "source": [
        "# Import Libraries\n",
        "import numpy as np\n",
        "import pandas as pd\n",
        "import matplotlib.pyplot as plt\n",
        "import seaborn as sns"
      ],
      "metadata": {
        "id": "M8Vqi-pPk-HR"
      },
      "execution_count": null,
      "outputs": []
    },
    {
      "cell_type": "markdown",
      "source": [
        "### Dataset Loading"
      ],
      "metadata": {
        "id": "3RnN4peoiCZX"
      }
    },
    {
      "cell_type": "code",
      "source": [
        "# mounting Gdrive\n",
        "from google.colab import drive\n",
        "drive.mount('/content/drive')\n"
      ],
      "metadata": {
        "id": "4CkvbW_SlZ_R"
      },
      "execution_count": null,
      "outputs": []
    },
    {
      "cell_type": "code",
      "source": [
        "#the dataset of hotel bookings is initialized to the variable named hotel_data.\n",
        "hotel_data =pd.read_csv('/content/drive/MyDrive/Colab Notebooks/colab_csv/Hotel Bookings.csv')"
      ],
      "metadata": {
        "id": "K47AmXfN-fhk"
      },
      "execution_count": null,
      "outputs": []
    },
    {
      "cell_type": "markdown",
      "source": [
        "### Dataset First View"
      ],
      "metadata": {
        "id": "x71ZqKXriCWQ"
      }
    },
    {
      "cell_type": "code",
      "source": [
        "# Dataset First Look\n",
        "hotel_data.head()"
      ],
      "metadata": {
        "id": "LWNFOSvLl09H"
      },
      "execution_count": null,
      "outputs": []
    },
    {
      "cell_type": "markdown",
      "source": [
        "### Dataset Rows & Columns count"
      ],
      "metadata": {
        "id": "7hBIi_osiCS2"
      }
    },
    {
      "cell_type": "code",
      "source": [
        "# Dataset Rows & Columns count\n",
        "hotel_data.shape"
      ],
      "metadata": {
        "id": "Kllu7SJgmLij"
      },
      "execution_count": null,
      "outputs": []
    },
    {
      "cell_type": "markdown",
      "source": [
        "So in here we have got 119390 rows and 32 columns of dataset involved with hotel_data\n",
        "\n",
        "\n",
        "\n",
        "\n",
        "\n"
      ],
      "metadata": {
        "id": "_V4HKXQK2Yln"
      }
    },
    {
      "cell_type": "markdown",
      "source": [
        "### Dataset Information"
      ],
      "metadata": {
        "id": "JlHwYmJAmNHm"
      }
    },
    {
      "cell_type": "code",
      "source": [
        "# Dataset Info\n",
        "hotel_data.info()"
      ],
      "metadata": {
        "id": "e9hRXRi6meOf"
      },
      "execution_count": null,
      "outputs": []
    },
    {
      "cell_type": "markdown",
      "source": [
        "In here we are looking into the non-null values of the each and every columns(features)of the dataset we are working with.\n",
        "And also the datatype of the columns."
      ],
      "metadata": {
        "id": "VA1ZhdQ73xGj"
      }
    },
    {
      "cell_type": "code",
      "source": [
        "#desribing the dataset\n",
        "hotel_data.describe()"
      ],
      "metadata": {
        "id": "vn7Lp5bt3jyA"
      },
      "execution_count": null,
      "outputs": []
    },
    {
      "cell_type": "markdown",
      "source": [
        "'''*In* here we will seeing the non_null and also the null type values excluding the values which are represented in the string format.'''  "
      ],
      "metadata": {
        "id": "VENHQWk532K_"
      }
    },
    {
      "cell_type": "markdown",
      "source": [
        "#### Duplicate Values"
      ],
      "metadata": {
        "id": "35m5QtbWiB9F"
      }
    },
    {
      "cell_type": "code",
      "source": [
        "# Dataset Duplicate Value Count'\n",
        "count_of_dup=len(hotel_data[hotel_data.duplicated()])\n",
        "print(count_of_dup)"
      ],
      "metadata": {
        "id": "1sLdpKYkmox0"
      },
      "execution_count": null,
      "outputs": []
    },
    {
      "cell_type": "markdown",
      "source": [
        "Here the duplicate values ie.the values which acts as clone will be resulted in FALSE so the values which are returning false will be taken in account and reflected in the output result.It results in 31994 duplicated values."
      ],
      "metadata": {
        "id": "dXZC3e12nlyt"
      }
    },
    {
      "cell_type": "markdown",
      "source": [
        "#### Missing Values/Null Values"
      ],
      "metadata": {
        "id": "PoPl-ycgm1ru"
      }
    },
    {
      "cell_type": "code",
      "source": [
        "# Missing Values/Null Values Count\n",
        "hotel_data.isnull().sum().sort_values(ascending=False)"
      ],
      "metadata": {
        "id": "GgHWkxvamxVg"
      },
      "execution_count": null,
      "outputs": []
    },
    {
      "cell_type": "markdown",
      "source": [
        "*It show the sum of all null values of individual columns so there are nearly 3 to 4 columns holding null values.*"
      ],
      "metadata": {
        "id": "IfCTgdRcDAp6"
      }
    },
    {
      "cell_type": "code",
      "source": [
        "# Visualizing the missing values\n",
        "plt.title(\"Missing values\")\n",
        "sns.heatmap(hotel_data.isnull(), cmap='cividis',cbar=False)"
      ],
      "metadata": {
        "id": "3q5wnI3om9sJ"
      },
      "execution_count": null,
      "outputs": []
    },
    {
      "cell_type": "markdown",
      "source": [
        "*Heatmaps are the better way to look into the missing values because they reflect the nature of each cell using colors.However,Heatmaps visualize the data in a very good manner.*"
      ],
      "metadata": {
        "id": "O71UN_WNRjQi"
      }
    },
    {
      "cell_type": "markdown",
      "source": [
        "### What did you know about your dataset?"
      ],
      "metadata": {
        "id": "H0kj-8xxnORC"
      }
    },
    {
      "cell_type": "markdown",
      "source": [
        "*So far,the hotel booking dataset is containing the data of the hotel and their characteristis and features which is a huge data of 119390 rows and 32 columns.*\n",
        "*So by viewing the dataset as a Data Analyst the role is to provide deep insights and also the predictons for the marketing strategies.*\n",
        "*About the description,the dataset is conceived with minimal amount of null and missing values.*"
      ],
      "metadata": {
        "id": "gfoNAAC-nUe_"
      }
    },
    {
      "cell_type": "markdown",
      "source": [
        "## ***2. Understanding Your Variables***"
      ],
      "metadata": {
        "id": "nA9Y7ga8ng1Z"
      }
    },
    {
      "cell_type": "code",
      "source": [
        "# Dataset Columns\n",
        "hotel_data.columns.tolist()"
      ],
      "metadata": {
        "id": "j7xfkqrt5Ag5"
      },
      "execution_count": null,
      "outputs": []
    },
    {
      "cell_type": "code",
      "source": [
        "# Dataset Describe\n",
        "hotel_data.describe(include='all')"
      ],
      "metadata": {
        "id": "DnOaZdaE5Q5t"
      },
      "execution_count": null,
      "outputs": []
    },
    {
      "cell_type": "markdown",
      "source": [
        "*In here the (include='all') parameter include bothe numeric and nobn-numeric values and shows their statistical representation*.\n",
        "*ie.the index values represents the ideology of the statictics function*."
      ],
      "metadata": {
        "id": "MtKFbbH0UZu6"
      }
    },
    {
      "cell_type": "markdown",
      "source": [
        "### Variables Description"
      ],
      "metadata": {
        "id": "PBTbrJXOngz2"
      }
    },
    {
      "cell_type": "markdown",
      "source": [
        "•\t**Hotel-**H1= Resort Hotel;\n",
        "H2=City Hotel\n",
        "\n",
        "•\t**Is_cancelled-**If the booking was cancelled(1) or\n",
        "not(0)\n",
        "\n",
        "•\t**Lead_time-**Number of days that elapsed between\n",
        "                the entering date of the booking into the\n",
        "                PMS and the arrival date\n",
        "\n",
        "•\t**Arrival_date_year**- Year of arrival date\n",
        "\n",
        "•\t**Arrival_date_month-**Month of arrival date\n",
        "\n",
        "•\t**Arrival_date_week_number**-Week number for arrival date\n",
        "\n",
        "•\t**Arrival_date_day**-Day of arrival date\n",
        "\n",
        "•\t**Stays_in_weekend_nights**-Number of weekend nights (Saturday or Sunday) the\n",
        "                              guest stayed or booked to stay at the hotel\n",
        "\n",
        "\n",
        "•\t**Stays_in_week_nights-**Number of week nights (Monday to Friday) the guest\n",
        "                         stayed or booked to stay at the hotel\n",
        "\n",
        "•\t**Adults** -Number of adults\n",
        "\n",
        "• **Children**- Number of children\n",
        "\n",
        "• **Babies**-Number of babies\n",
        "\n",
        "• **Meal**-Kind of meal opted for\n",
        "\n",
        "\n",
        "• **Country**-Country code\n",
        "\n",
        "•\t**Distribution _channel**-How the customer accessed the stay-\n",
        "corporate booking/Direct/TA.TO\n",
        "\n",
        "•\t**Is_repeated_guest**-Guest coming for first time or not\n",
        "\n",
        "•\t**Previous_cancellation**-Was there a cancellation before\n",
        "\n",
        "•\t**Previous_bookings**-Count of previous bookings\n",
        "\n",
        "•\t**Reserved_room_type**-Type of room reserved\n",
        "\n",
        "• **Assigned_room_type**-Type of room assigned\n",
        "\n",
        "• **Booking_changes**-Count of changes made to booking\n",
        "\n",
        "• **Deposit_type**-Deposit type\n",
        "\n",
        "•\t**Agent**-Booked through agent\n",
        "\n",
        "•\t**Days_in_waiting_list**-Number of days in waiting list\n",
        "\n",
        "•\t**Customer_type**-Type of customer\n",
        "\n",
        "•\t**Required_car_parking**-If car parking is required\n",
        "\n",
        "•\t**Total_of_special_req-**Number of additional special\n",
        "\t                     requirements\n",
        "\n",
        "•\t**Reservation_status**-Reservation of status\n",
        "\n",
        "•\t**Reservation_status_date-**Date of the specific status\n",
        "\n",
        "\n",
        "\n",
        "\n",
        "\n",
        "\n",
        "\n",
        "\n",
        "\n",
        "\n",
        "\n",
        "\n",
        "\n"
      ],
      "metadata": {
        "id": "0sN4zVWsdK6E"
      }
    },
    {
      "cell_type": "markdown",
      "source": [
        "The above shown format is the variable and its description on which it works."
      ],
      "metadata": {
        "id": "ykUmvyJKm_F1"
      }
    },
    {
      "cell_type": "markdown",
      "source": [
        "### Check Unique Values for each variable."
      ],
      "metadata": {
        "id": "u3PMJOP6ngxN"
      }
    },
    {
      "cell_type": "markdown",
      "source": [
        "This is because this ensure that the original data is unaffected with the wrangling and the modification we are going to do."
      ],
      "metadata": {
        "id": "xIhjOg8HW16Y"
      }
    },
    {
      "cell_type": "code",
      "source": [
        "# Check Unique Values for each variable.\n",
        "column_names=hotel_data.columns.tolist()\n",
        "#iterating through every element in the list ie.the columns names to extract the unique elements.\n",
        "for i in column_names:\n",
        "  unique_values=hotel_data[i].unique()\n",
        "  print(i.upper(),unique_values)\n",
        "  print('\\n')\n"
      ],
      "metadata": {
        "id": "zms12Yq5n-jE"
      },
      "execution_count": null,
      "outputs": []
    },
    {
      "cell_type": "markdown",
      "source": [
        "*Iterating through every element in the list ie.the columns names to extract the unique elements.*"
      ],
      "metadata": {
        "id": "2sR2i2X2N6JN"
      }
    },
    {
      "cell_type": "markdown",
      "source": [
        "## 3. ***Data Wrangling***"
      ],
      "metadata": {
        "id": "dauF4eBmngu3"
      }
    },
    {
      "cell_type": "markdown",
      "source": [
        "### Data Wrangling Code"
      ],
      "metadata": {
        "id": "bKJF3rekwFvQ"
      }
    },
    {
      "cell_type": "code",
      "source": [
        "#making a copy of dataset hotel_data.\n",
        "data=hotel_data.copy()\n",
        "\n",
        "\n",
        "# Write your code to make your dataset analysis ready.\n",
        "data[data.duplicated()].shape                           #Represent how many rows are infused with the duiplicate  values.\n",
        "\n",
        "#dropping\n",
        "data.drop_duplicates(inplace=True)                            #So the duplicates should be dropped from the data set,to prevent bias in analysis.\n",
        "data.shape                                                    #After the drop , the dataset is shaped to 87396 rows and 32 columns\n",
        "\n",
        "\n",
        "\n",
        "\n",
        "\n",
        "#missing_values\n",
        "#the null values should be identified and replaced with the \"mean\" of the related values.\n",
        "data.isnull().sum().sort_values(ascending=False)              #this shows the sum of null values arranged in the format of high to low.\n",
        "#this missing values are because the customer haven't used these features.So we need to handle these cases by replacing with appropriate values\n",
        "'''Here it shows the null value are with 4 columns\n",
        "\n",
        "*Company 112593\n",
        "\n",
        "Agent 16340\n",
        "\n",
        "Country 488\n",
        "\n",
        "Children 4*'''\n",
        "\n",
        "\n",
        "\n",
        "\n",
        "#1st the columns with higher missing values to b solved because we can't replace it with the mean because of huge missings.\n",
        "#as these columns are consider as \"int type\" so we are going to replace those values with numeric value of 0.\n",
        "#filling the company and agent with 0.\n",
        "data[['company','agent']]=data[['company','agent']].fillna(0)\n",
        "data[['company','agent']]\n",
        "\n",
        "\n",
        "\n",
        "\n",
        "data['country']=data['country'].fillna('not_mentionedd')\n",
        "#we have filled the null values of country with \"not_mentioned\" keyword.\n",
        "data['country']\n",
        "\n",
        "\n",
        "\n",
        "\n",
        "mean_child=data['children'].mean\n",
        "data['children']=data['children'].fillna(mean_child)\n",
        "#in here we have replace the null values of the children column with the mean values of the same column.\n",
        "#because of the rate of missing value in children column is low compared to other columns.\n",
        "data['children']\n",
        "\n",
        "\n",
        "\n",
        "#replacing the column name\n",
        "#the 2nd column which contains the values 0 and 1 replacing it with no and yes respectively.\n",
        "# data ['is_canceled'] = data['is_canceled'].replace({0: 'No', 1: 'Yes'})\n",
        "\n",
        "\n",
        "\n",
        "#now cchecking for null values.\n",
        "data.isnull().sum().sort_values(ascending=False)\n",
        "#so the null values have been optimised.\n",
        "\n",
        "\n",
        "\n",
        "###############################################################################\n",
        "'''The below procees is going to rename name the column holding the values of year,month and the day and the they will will be combine into single column so the\n",
        "\n",
        "   storage of data will be optimised aswell and we can seee the customer checked in status which makes the data analysis process much more better'''\n",
        "\n",
        "# # Create a dictionary to map month names to numerical values\n",
        "month_map = {\n",
        "    'January': '01', 'February': '02', 'March': '03', 'April': '04', 'May': '05', 'June': '06',\n",
        "    'July': '07', 'August': '08', 'September': '09', 'October': '10', 'November': '11', 'December':'12'\n",
        "}\n",
        "# Map month names to numerical values as strings\n",
        "data['arrival_date_month'] = data['arrival_date_month'].map(month_map)\n",
        "\n",
        "# Rename columns to match [year, month, day] order\n",
        "data.rename(columns={\n",
        "    'arrival_date_year': 'year',\n",
        "    'arrival_date_month': 'month',\n",
        "    'arrival_date_day_of_month': 'day'\n",
        "}, inplace=True)\n",
        "# Rearrange the order of columns for 'pd.to_datetime()' (year, month, day)\n",
        "data['dates'] = pd.to_datetime(data[['year', 'month', 'day']])\n",
        "\n",
        "# col_to_drop=['year', 'month', 'day']\n",
        "# data=data.drop(columns=col_to_drop,axis=1)                                      #here the 3 columns represent the YEAR,MONTH,DAY are dropped off.\n",
        "\n",
        "\n",
        "###############################################################################\n",
        "values=data['dates']\n",
        "# Specify the position where you want to insert the new column (index starts at 0)\n",
        "position = 7  # Inserting the new column after the 4th column\n",
        "\n",
        "# Insert the new column with the default value at the specified position\n",
        "data.insert(position, 'checked_in_status',values)\n",
        "\n",
        "data=data.drop(data.columns[-1],axis=1)\n",
        "# Now, 'date' column contains the combined dates\n",
        "###############################################################################\n",
        "\n",
        "#the no.of stays are calculateed into single column.\n",
        "total_nyts=data['stays_in_weekend_nights']+data['stays_in_week_nights']\n",
        "data.insert(8,'total_nights',total_nyts)\n",
        "\n",
        "#creating new column for no.of member in a stay.\n",
        "total_members=data[['adults','children','babies']].sum(axis=1)\n",
        "data.insert(11,'total_members',total_members)\n",
        "\n",
        "\n",
        "data.head()"
      ],
      "metadata": {
        "id": "6_fIjyfCXYDu"
      },
      "execution_count": null,
      "outputs": []
    },
    {
      "cell_type": "code",
      "source": [
        "data.columns.tolist()"
      ],
      "metadata": {
        "id": "tbCaXYDLNVwb"
      },
      "execution_count": null,
      "outputs": []
    },
    {
      "cell_type": "markdown",
      "source": [
        "### What all manipulations have you done and insights you found?"
      ],
      "metadata": {
        "id": "MSa1f5Uengrz"
      }
    },
    {
      "cell_type": "markdown",
      "source": [
        "In the segment of Data Wrangling,we have made a copy of the dataset in order to not to affect the original dataset.The duplicates are modified by dropping.\n",
        "Then the null and missing values were replaced with apropriate values of dtype.\n",
        "\n",
        "And also I have created a new columns which may help much more better in working on this project.The procees renamed name the column holding the values of year,month and the day and the they will will be combine into single column so the storage of data will be optimised aswell and we can seee the customer checked in status which makes the data analysis process much more better.\n",
        "\n",
        "So very well the data is optimised.\n",
        "\n",
        "\n",
        "I have analyzed the dataset to identify the times of the year when hotel bookings are at their peak and when they are at their lowest.\n",
        "I'd look into the data to determine which days of the week are the most popular among guests for making hotel reservations.\n",
        "Booking Lead Time:\n",
        "I'd examine the data to understand how far in advance guests typically make their hotel reservations.\n",
        "\n",
        "I have examined the dataset to understand the distribution of bookings across various channels, such as online travel agencies, direct bookings, and phone reservations.\n",
        "I'd assess the dataset to determine which booking channels generate the highest revenue and evaluate their profitability.\n",
        "\n",
        "\n",
        "I have computed the cancellation rates by analyzing the dataset to determine the percentage of bookings that have been canceled.\n",
        "I'd delve into the data to find common reasons for booking cancellations and understand the factors driving these cancellations.\n",
        "\n",
        "These are the insights from my side which will be reflected in the visualizations of this dataset."
      ],
      "metadata": {
        "id": "jakwLXIRmwdg"
      }
    },
    {
      "cell_type": "markdown",
      "source": [
        "## ***4. Data Vizualization, Storytelling & Experimenting with charts : Understand the relationships between variables***"
      ],
      "metadata": {
        "id": "GF8Ens_Soomf"
      }
    },
    {
      "cell_type": "markdown",
      "source": [
        "#### Chart - 1--Booking Distribution over years(Bivariate distribution)\n"
      ],
      "metadata": {
        "id": "0wOQAZs5pc--"
      }
    },
    {
      "cell_type": "code",
      "source": [
        "# Chart - 1 visualization code\n",
        "# Assuming your dataset has a 'year' column\n",
        "yearly_distribution = data.groupby('year')['month'].value_counts().unstack(fill_value=0)\n",
        "yearly_distribution_normalized = yearly_distribution.div(yearly_distribution.sum(axis=1), axis=0)\n",
        "plt.figure(figsize=(12, 6))\n",
        "sns.heatmap(yearly_distribution_normalized, cmap='Blues', annot=True, fmt='.2f',square=True)\n",
        "\n",
        "plt.title('Booking Distribution Heatmap')\n",
        "plt.xlabel('Month')\n",
        "plt.ylabel('Year')\n",
        "xticks=(range(0, 12), ['Jan', 'Feb', 'Mar', 'Apr', 'May', 'Jun', 'Jul', 'Aug', 'Sep', 'Oct', 'Nov', 'Dec'])\n",
        "plt.show()"
      ],
      "metadata": {
        "id": "7v_ESjsspbW7"
      },
      "execution_count": null,
      "outputs": []
    },
    {
      "cell_type": "markdown",
      "source": [
        "##### 1. Why did you pick the specific chart?"
      ],
      "metadata": {
        "id": "K5QZ13OEpz2H"
      }
    },
    {
      "cell_type": "markdown",
      "source": [
        "A heatmap can be used to visualize the distribution of bookings across months and years. Darker colors can represent higher proportions.Data distributed across two dimensions: months and years. Heatmaps are excellent for visualizing such two-dimensional data because they allow to represent values as colors in a grid. Each cell in the heatmap corresponds to a combination of a month and a year, making it suitable for this kind of data.Heatmaps make it easy to compare values across months and years. You can quickly spot patterns and trends, such as seasonality or changes in booking behavior over time. The annotations in the cells provide precise values, aiding in quantitative analysis."
      ],
      "metadata": {
        "id": "XESiWehPqBRc"
      }
    },
    {
      "cell_type": "markdown",
      "source": [
        "##### 2. What is/are the insight(s) found from the chart?"
      ],
      "metadata": {
        "id": "lQ7QKXXCp7Bj"
      }
    },
    {
      "cell_type": "markdown",
      "source": [
        "Heatmaps can reveal seasonal patterns in the booking data. Look for rows (years) where certain months consistently have darker colors, indicating higher booking proportions. This could suggest that certain times of the year are more popular for bookings. The darkest colors consistently across all years could be the peak booking months, and you may want to focus marketing efforts or allocate resources accordingly during those times. The months with consistently lighter colors may represent low-booking periods, and might consider strategies to boost bookings during these times.\n",
        "\n",
        "Certain months or years are entirely blank, it could indicate missing data or a lack of bookings during those periods."
      ],
      "metadata": {
        "id": "C_j1G7yiqdRP"
      }
    },
    {
      "cell_type": "markdown",
      "source": [
        "##### 3. Will the gained insights help creating a positive business impact?\n",
        "Are there any insights that lead to negative growth? Justify with specific reason."
      ],
      "metadata": {
        "id": "448CDAPjqfQr"
      }
    },
    {
      "cell_type": "markdown",
      "source": [
        "Positive Growth:\n",
        "\n",
        "Discovering the peak booking months can be highly beneficial. It allows businesses to allocate resources, staff, and marketing efforts more effectively during these high-demand periods, potentially increasing revenue.\n",
        "\n",
        "Understanding seasonal trends can help businesses plan targeted marketing campaigns and promotions during off-peak months to stimulate bookings and counteract low-season trends.\n",
        "\n",
        "Insights about booking behavior can inform customer engagement strategies. For example, businesses can create loyalty programs, special offers, or events during historically slow months to keep customers engaged.\n",
        "\n",
        "Negative Growth:\n",
        "\n",
        "Overreacting to seasonal trends can result in resource imbalances. For example, hiring too many staff during peak months can lead to increased labor costs during slow periods, negatively impacting profitability.\n",
        "\n",
        "Assuming that historical trends will continue indefinitely can be risky. If external factors (e.g., economic changes, competition) shift, a business that doesn't adapt its strategy may face negative growth during previously strong months."
      ],
      "metadata": {
        "id": "3cspy4FjqxJW"
      }
    },
    {
      "cell_type": "markdown",
      "source": [
        "#### Chart - 2--Visualizing the distribution of bookings between different hotel types and  the count of bookings for each room type."
      ],
      "metadata": {
        "id": "KSlN3yHqYklG"
      }
    },
    {
      "cell_type": "code",
      "source": [
        "# Chart - 2 visualization code\n",
        "booking_counts = data['hotel'].value_counts()\n",
        "\n",
        "# Create a bar plot\n",
        "plt.figure(figsize=(8, 6))\n",
        "plt.bar(booking_counts.index, booking_counts.values, color=['blue', 'green'])  # Specify colors for each hotel type\n",
        "plt.xlabel('Hotel Type')\n",
        "plt.ylabel('Number of Bookings')\n",
        "plt.title('Distribution of Bookings by Hotel Type')\n",
        "plt.show()"
      ],
      "metadata": {
        "id": "R4YgtaqtYklH"
      },
      "execution_count": null,
      "outputs": []
    },
    {
      "cell_type": "markdown",
      "source": [
        "##### 1. Why did you pick the specific chart?"
      ],
      "metadata": {
        "id": "t6dVpIINYklI"
      }
    },
    {
      "cell_type": "markdown",
      "source": [
        "Answer Here."
      ],
      "metadata": {
        "id": "5aaW0BYyYklI"
      }
    },
    {
      "cell_type": "markdown",
      "source": [
        "##### 2. What is/are the insight(s) found from the chart?"
      ],
      "metadata": {
        "id": "ijmpgYnKYklI"
      }
    },
    {
      "cell_type": "markdown",
      "source": [
        "Answer Here"
      ],
      "metadata": {
        "id": "PSx9atu2YklI"
      }
    },
    {
      "cell_type": "markdown",
      "source": [
        "##### 3. Will the gained insights help creating a positive business impact?\n",
        "Are there any insights that lead to negative growth? Justify with specific reason."
      ],
      "metadata": {
        "id": "-JiQyfWJYklI"
      }
    },
    {
      "cell_type": "markdown",
      "source": [
        "Answer Here"
      ],
      "metadata": {
        "id": "BcBbebzrYklV"
      }
    },
    {
      "cell_type": "markdown",
      "source": [
        "*italicized text*#### Chart - 3--The distribution of the Average Daily Rate (ADR) and the count of bookings for each room type"
      ],
      "metadata": {
        "id": "EM7whBJCYoAo"
      }
    },
    {
      "cell_type": "code",
      "source": [
        "# Chart - 3 visualization code\n",
        "fig, axes = plt.subplots(1, 2, figsize=(14,7))\n",
        "\n",
        "# Subplot 1: Count of Bookings by Room Type\n",
        "sns.countplot(ax=axes[0], x='assigned_room_type', data=data, palette='Set1')\n",
        "axes[0].set_xlabel('Assigned Room Type')\n",
        "axes[0].set_ylabel('Number of Bookings')\n",
        "axes[0].set_title('Count of Bookings by Room Type')\n",
        "axes[0].tick_params(axis='x')\n",
        "\n",
        "# Subplot 2: ADR Distribution by Room Type\n",
        "sns.boxplot(ax=axes[1], x='assigned_room_type', y='adr', data=data, palette='Set2')\n",
        "axes[1].set_xlabel('Assigned Room Type')\n",
        "axes[1].set_ylabel('ADR (Average Daily Rate)')\n",
        "axes[1].set_title('ADR Distribution by Room Type')\n",
        "axes[1].tick_params(axis='x')\n",
        "\n",
        "plt.tight_layout()\n",
        "plt.show()"
      ],
      "metadata": {
        "id": "cOgZnaa_TzmL"
      },
      "execution_count": null,
      "outputs": []
    },
    {
      "cell_type": "markdown",
      "source": [
        "##### 1. Why did you pick the specific chart?"
      ],
      "metadata": {
        "id": "fge-S5ZAYoAp"
      }
    },
    {
      "cell_type": "markdown",
      "source": [
        "Countplot:\n",
        "\n",
        "I used a countplot (bar chart) to visualize the count of bookings for each room type.\n",
        "Countplots are effective for showing the distribution of categorical data, in this case, the distribution of room types.\n",
        "It helps answer questions like \"Which room type is most in demand?\"\n",
        "\n",
        "Boxplot:\n",
        "\n",
        "I used a boxplot to visualize the distribution of the Average Daily Rate (ADR) for each room type.They are suitable for displaying the distribution, spread, and outliers of numerical data within different categories.\n",
        "It helps answer questions like \"Which room type tends to have the highest ADR, and how variable are the ADR values within each room type?\""
      ],
      "metadata": {
        "id": "5dBItgRVYoAp"
      }
    },
    {
      "cell_type": "markdown",
      "source": [
        "##### 2. What is/are the insight(s) found from the chart?"
      ],
      "metadata": {
        "id": "85gYPyotYoAp"
      }
    },
    {
      "cell_type": "markdown",
      "source": [
        "\n",
        "\n",
        "The first subplot, \"Count of Bookings by Room Type,\" shows the distribution of bookings across different room types.\n",
        "From this subplot, you can observe which room types are more popular or in higher demand based on the number of bookings.\n",
        "Insight: It appears that certain room types have a significantly higher number of bookings compared to others. This information can be valuable for hotel management to understand which room types are preferred by guests.\n",
        "\n",
        "\n",
        "The second subplot, \"ADR Distribution by Room Type,\" displays boxplots that represent the distribution of Average Daily Rate (ADR) for each room type.\n",
        "Boxplots provide insights into the spread and central tendency of ADR values for each room type.\n",
        "Insight: Some room types have a wider range of ADR values, indicating variability in pricing. Additionally, the position of the boxplots' medians provides information about the central tendency of ADR for each room type. This insight can be used to assess pricing strategies and identify potential opportunities to optimize ADR.Answer Here"
      ],
      "metadata": {
        "id": "4jstXR6OYoAp"
      }
    },
    {
      "cell_type": "markdown",
      "source": [
        "##### 3. Will the gained insights help creating a positive business impact?\n",
        "Are there any insights that lead to negative growth? Justify with specific reason."
      ],
      "metadata": {
        "id": "RoGjAbkUYoAp"
      }
    },
    {
      "cell_type": "markdown",
      "source": [
        "Positive growth:\n",
        "\n",
        "\n",
        "If the analysis shows that a particular room type is in high demand, the hotel management can allocate more resources and marketing efforts to promote that room type. This could lead to increased revenue and positive growth.\n",
        "\n",
        "\n",
        "Identifying the room type with the highest ADR allows the hotel to set pricing strategies. If guests are willing to pay more for a specific room type, the hotel can adjust prices accordingly, potentially increasing revenue and profitability.\n",
        "\n",
        "\n",
        "Negative Growth:\n",
        "  \n",
        "  \n",
        "  Paradoxically, if the most in-demand room type is also the one with the lowest ADR, the hotel might be missing out on revenue. This could happen if the hotel is not optimizing its pricing strategy for the high-demand room type.\n",
        "\n",
        "  Paradoxically, if the most in-demand room type is also the one with the lowest ADR, the hotel might be missing out on revenue. This could happen if the hotel is not optimizing its pricing strategy for the high-demand room type."
      ],
      "metadata": {
        "id": "zfJ8IqMcYoAp"
      }
    },
    {
      "cell_type": "markdown",
      "source": [
        "#### Chart - 4--Time series plot with individual days of the month.Comparing trends over time."
      ],
      "metadata": {
        "id": "4Of9eVA-YrdM"
      }
    },
    {
      "cell_type": "code",
      "source": [
        "# Chart - 4 visualization code\n",
        "grouped_data = data.groupby(['month', 'day'])['days_in_waiting_list'].mean()\n",
        "\n",
        "# Create a time series plot with individual days of the month\n",
        "plt.figure(figsize=(12, 6))  # Adjust figure size if needed\n",
        "grouped_data.plot()\n",
        "\n",
        "# Add labels and title\n",
        "plt.xlabel('Day of the Month')\n",
        "plt.ylabel('Mean Days in Waiting List')\n",
        "plt.title('Mean Days in Waiting List Over Time by Day of the Month')\n",
        "\n",
        "# Display the plot\n",
        "\n",
        "plt.grid(True)  # Add grid lines if desired\n",
        "plt.xticks(rotation=45)  # Rotate x-axis labels for readability\n",
        "plt.tight_layout()  # Ensure labels are not cut off\n",
        "plt.show()\n"
      ],
      "metadata": {
        "id": "irlUoxc8YrdO"
      },
      "execution_count": null,
      "outputs": []
    },
    {
      "cell_type": "markdown",
      "source": [
        "##### 1. Why did you pick the specific chart?"
      ],
      "metadata": {
        "id": "iky9q4vBYrdO"
      }
    },
    {
      "cell_type": "markdown",
      "source": [
        "The data involves time-based information, specifically mean waiting times, which can change over time. Time series plots are particularly well-suited for visualizing such data because they emphasize the chronological order of observations.The data can be grouped by different months, creating multiple categories. A line plot allows you to represent these categories (months) with separate lines, making it easy to compare trends over time.\n",
        "\n",
        "Line plots facilitate comparisons between different months and enable the identification of patterns, seasonality, and trends over time.\n",
        "\n"
      ],
      "metadata": {
        "id": "aJRCwT6DYrdO"
      }
    },
    {
      "cell_type": "markdown",
      "source": [
        "##### 2. What is/are the insight(s) found from the chart?"
      ],
      "metadata": {
        "id": "F6T5p64dYrdO"
      }
    },
    {
      "cell_type": "markdown",
      "source": [
        "This can help you identify specific days of the month that consistently have higher or lower waiting times.\n",
        "\n",
        "might notice that waiting times tend to be higher during certain months, possibly due to seasonal factors or events.\n",
        "\n",
        "Any sudden spikes or dips in the mean waiting times for specific days or months may indicate outliers or unusual events. Investigating these anomalies can help you understand their causes.\n",
        "\n",
        " Seasonal variations can provide insights into the impact of holidays or specific seasons on waiting times.Understanding waiting time variations allows you to consider the customer experience. Lower waiting times on specific days can lead to improved customer satisfaction.\n",
        "\n"
      ],
      "metadata": {
        "id": "Xx8WAJvtYrdO"
      }
    },
    {
      "cell_type": "markdown",
      "source": [
        "##### 3. Will the gained insights help creating a positive business impact?\n",
        "Are there any insights that lead to negative growth? Justify with specific reason."
      ],
      "metadata": {
        "id": "y-Ehk30pYrdP"
      }
    },
    {
      "cell_type": "markdown",
      "source": [
        "Positive Growth:\n",
        "\n",
        "Insights that lead to better management of peak demand periods and reductions in waiting times can enhance the customer experience. This improvement can result in increased customer satisfaction, positive word-of-mouth, and repeat business.\n",
        "\n",
        "Identifying patterns and allocating resources more effectively based on insights can lead to cost savings and operational efficiencies. For example,we can adjust staffing levels to meet demand fluctuations more efficiently.\n",
        "\n",
        "Long-term trend analysis can inform strategic decisions. For instance, recognizing a consistent decrease in waiting times may indicate successful operational improvements, contributing to positive business growth.\n",
        "\n",
        "Insights into seasonal trends can inform marketing strategies and pricing decisions. Businesses can capitalize on peak seasons by adjusting marketing campaigns and pricing structures.\n",
        "\n",
        "Negative Growth:\n",
        "\n",
        "Failure to address high waiting times during peak periods can result in lost revenue opportunities. Customers may choose competitors with shorter wait times, leading to revenue decline.\n",
        "\n",
        "If insights are not acted upon and waiting times remain consistently high or exhibit undesirable patterns, it can result in dissatisfied customers. This can lead to negative online reviews, decreased customer loyalty, and harm to the brand's reputation.\n",
        "\n"
      ],
      "metadata": {
        "id": "jLNxxz7MYrdP"
      }
    },
    {
      "cell_type": "markdown",
      "source": [
        "#### Chart - 5--Calculating the percentage of unique IDs"
      ],
      "metadata": {
        "id": "bamQiAODYuh1"
      }
    },
    {
      "cell_type": "code",
      "source": [
        "# Chart - 5 visualization code\n",
        "\n",
        "# Group the data by 'distribution_channel' and calculate the percentage of unique IDs\n",
        "group_by_dc = data.groupby('distribution_channel')\n",
        "df = pd.DataFrame(((group_by_dc.size() / data.shape[0]) * 100)).reset_index().rename(columns={0: 'Booking_%'})\n",
        "\n",
        "# Create a horizontal bar chart\n",
        "plt.figure(figsize=(8, 6))\n",
        "plt.barh(df['distribution_channel'], df['Booking_%'], color='skyblue')\n",
        "plt.xlabel('Booking Percentage (%)')\n",
        "plt.ylabel('Distribution Channel')\n",
        "plt.title('Distribution of Booking Percentage by Channel')\n",
        "plt.show()\n"
      ],
      "metadata": {
        "id": "GIb89vK5HTtF"
      },
      "execution_count": null,
      "outputs": []
    },
    {
      "cell_type": "markdown",
      "source": [
        "##### 1. Why did you pick the specific chart?"
      ],
      "metadata": {
        "id": "QHF8YVU7Yuh3"
      }
    },
    {
      "cell_type": "markdown",
      "source": [
        "The \"distribution_channel\" column contains categorical data, which makes a pie chart a suitable choice for showing the relative proportions of different categories.\n",
        "\n",
        "\n",
        " Horizontal bar chart is effective when you need to compare categories (in this case, distribution channels) because it allows for a straightforward visual comparison of values.\n",
        "\n",
        " Horizontal bar charts are often easier to read than pie charts, especially when you have multiple categories or want to show precise values. In a pie chart, it can be challenging to compare the sizes of slices accurately.\n",
        "\n"
      ],
      "metadata": {
        "id": "dcxuIMRPYuh3"
      }
    },
    {
      "cell_type": "markdown",
      "source": [
        "##### 2. What is/are the insight(s) found from the chart?\n",
        "\n"
      ],
      "metadata": {
        "id": "GwzvFGzlYuh3"
      }
    },
    {
      "cell_type": "markdown",
      "source": [
        "Can easily see which distribution channels are the most popular or frequently used for bookings. The higher the percentage of bookings through that channel.\n",
        "\n",
        "Can quickly see if one channel dominates the others or if bookings are spread relatively evenly among multiple channels. If one or more categories are significantly larger than the others, it indicates that certain distribution channels play a dominant role in generating bookings. This information can be valuable for marketing and business strategies.\n",
        "\n"
      ],
      "metadata": {
        "id": "uyqkiB8YYuh3"
      }
    },
    {
      "cell_type": "markdown",
      "source": [
        "##### 3. Will the gained insights help creating a positive business impact?\n",
        "Are there any insights that lead to negative growth? Justify with specific reason."
      ],
      "metadata": {
        "id": "qYpmQ266Yuh3"
      }
    },
    {
      "cell_type": "markdown",
      "source": [
        "Positive growth:\n",
        "\n",
        "Insights into distribution channel performance can help tailor marketing strategies. Online travel agencies (OTAs) are driving a large portion of bookings, the business can invest in optimizing its presence on these platforms.\n",
        "\n",
        "\n",
        "Understanding the cost-effectiveness of different channels is crucial. If certain channels have a lower cost per booking, the business can focus on maximizing returns from those channels, which can improve profitability.\n",
        "\n",
        "\n",
        "Negative Growth:\n",
        "\n",
        "Overdependence on a Single Channel: If the chart shows that the majority of bookings come from a single channel, this can be risky. Any disruptions or changes in that channel (e.g., policy changes by an OTA) can significantly impact the business. Overreliance on one channel can lead to vulnerability.\n",
        "\n"
      ],
      "metadata": {
        "id": "_WtzZ_hCYuh4"
      }
    },
    {
      "cell_type": "markdown",
      "source": [
        "#### Chart - 6--visualizing the customer types and their contribution."
      ],
      "metadata": {
        "id": "OH-pJp9IphqM"
      }
    },
    {
      "cell_type": "code",
      "source": [
        "# Chart - 6 visualization code\n",
        "\n",
        "group_by_dc = data.groupby('customer_type')\n",
        "\n",
        "\n",
        "df= pd.DataFrame(((group_by_dc.size() / data.shape[0])*100)).reset_index().rename(columns={0: 'Booking_%'})\n",
        "plt.figure(figsize=(8, 8))\n",
        "d1= df['Booking_%']\n",
        "labels = df['customer_type']\n",
        "explode = [0.05] * len(labels)  # Adjust the amount of explosion as needed\n",
        "\n",
        "# Create the pie chart\n",
        "plt.pie(x=d1, autopct=\"%.2f%%\", explode=explode,labels=labels, pctdistance=0.75)  # Adjust pctdistance as needed\n",
        "\n",
        "plt.title(\"contribution of customer types\", fontsize=14)\n",
        "plt.axis('equal')  # Ensure the pie chart is circular\n",
        "\n",
        "plt.show()"
      ],
      "metadata": {
        "id": "kuRf4wtuphqN"
      },
      "execution_count": null,
      "outputs": []
    },
    {
      "cell_type": "markdown",
      "source": [
        "##### 1. Why did you pick the specific chart?"
      ],
      "metadata": {
        "id": "bbFf2-_FphqN"
      }
    },
    {
      "cell_type": "markdown",
      "source": [
        "Pie charts are commonly used when you want to show the composition of a whole in relation to its parts.\n",
        "\n",
        "Pie charts are effective for displaying data as percentages of a whole. Each slice of the pie represents a percentage, and the whole pie represents 100%.\n",
        "\n",
        "Pie charts can be visually appealing and are often used in reports, presentations, and dashboards to provide a quick overview of data distribution."
      ],
      "metadata": {
        "id": "loh7H2nzphqN"
      }
    },
    {
      "cell_type": "markdown",
      "source": [
        "##### 2. What is/are the insight(s) found from the chart?"
      ],
      "metadata": {
        "id": "_ouA3fa0phqN"
      }
    },
    {
      "cell_type": "markdown",
      "source": [
        "The most significant insight is that the 'Transient' customer type represents the majority of bookings, accounting for approximately 82.37% of all bookings. This indicates that a large portion of the hotel's customers fall into the 'Transient' category.\n",
        "\n",
        "The 'Contract' and 'Transient-Party' customer types also contribute to bookings, but to a much lesser extent. 'Contract' accounts for about 3.59% of bookings, while 'Transient-Party' accounts for around 13.42%. These two categories.\n",
        "\n",
        "The chart highlights an imbalance in the distribution of booking types. The 'Transient' category dominates the bookings, while the other categories are relatively small in comparison.\n",
        "\n",
        "Given that 'Transient' customers are the primary source of bookings, the hotel should continue to cater to their needs and provide exceptional service to maintain a high booking rate from this segment."
      ],
      "metadata": {
        "id": "VECbqPI7phqN"
      }
    },
    {
      "cell_type": "markdown",
      "source": [
        "##### 3. Will the gained insights help creating a positive business impact?\n",
        "Are there any insights that lead to negative growth? Justify with specific reason."
      ],
      "metadata": {
        "id": "Seke61FWphqN"
      }
    },
    {
      "cell_type": "markdown",
      "source": [
        "Positive Growth:\n",
        "\n",
        "\n",
        "The insight that 'Transient' customers represent the majority of bookings suggests that catering to the needs and preferences of this segment can have a positive impact. This could include tailoring marketing strategies, improving customer service, and optimizing pricing to attract and retain transient customers.\n",
        "\n",
        "The hotel can work on strategies to attract more 'Contract' and 'Group' customers, such as offering special packages or discounts for group bookings or establishing partnerships with organizations for contract bookings.\n",
        "\n",
        "Negative Growth:\n",
        "\n",
        "While 'Transient' bookings are a significant source of revenue, overreliance on a single customer segment can be risky. Economic fluctuations, changes in customer preferences, or external factors (e.g., travel restrictions) can impact the volume of transient bookings. If the hotel doesn't diversify its customer base, it may be vulnerable to such fluctuations.\n",
        "\n",
        "The hotel's revenue may be sensitive to changes in the 'Transient' market. Economic downturns or shifts in travel trends can impact transient bookings, potentially leading to periods of reduced revenue."
      ],
      "metadata": {
        "id": "DW4_bGpfphqN"
      }
    },
    {
      "cell_type": "markdown",
      "source": [
        "#### Chart - 7--Univariate distribution to visualize the distribution of bookings across months(histogram)."
      ],
      "metadata": {
        "id": "PIIx-8_IphqN"
      }
    },
    {
      "cell_type": "code",
      "source": [
        "# Chart - 7 visualization code\n",
        "# Create a histogram to visualize the distribution of bookings across months\n",
        "plt.figure(figsize=(10, 6))  # Set the figure size\n",
        "sns.histplot(data['month'], bins=12, kde=True, color='skyblue')  # Create a histogram with 12 bins (one for each month)\n",
        "plt.title('Distribution of Bookings Across Months')  # Set the title of the plot\n",
        "plt.xlabel('Month')  # Label the x-axis as 'Month'\n",
        "plt.ylabel('Count')  # Label the y-axis as 'Count'\n",
        "plt.xticks(range(0, 12), ['Jan', 'Feb', 'Mar', 'Apr', 'May', 'Jun', 'Jul', 'Aug', 'Sep', 'Oct', 'Nov', 'Dec'])\n",
        "# Set x-axis labels to month abbreviations\n",
        "\n",
        "plt.show()"
      ],
      "metadata": {
        "id": "lqAIGUfyphqO"
      },
      "execution_count": null,
      "outputs": []
    },
    {
      "cell_type": "markdown",
      "source": [
        "##### 1. Why did you pick the specific chart?"
      ],
      "metadata": {
        "id": "t27r6nlMphqO"
      }
    },
    {
      "cell_type": "markdown",
      "source": [
        "The choice of a histogram chart in this context is based on the nature of the data and the specific analysis goal.\n",
        "\n",
        "The data in question represents the number of bookings for each month of the year. This data is essentially a univariate distribution, to understand how the bookings are distributed across the months. A histogram is an appropriate choice for visualizing such distributions.\n",
        "\n",
        "\n",
        "A histogram allows you to divide the data into bins (in this case, one bin for each month), and it counts the number of data points falling into each bin. This helps in visualizing the frequency or count distribution across discrete categories (months in this case).\n",
        "\n",
        "Histograms are effective for identifying patterns and trends in data. You can observe if there are any months with significantly higher or lower booking counts, seasonal patterns, or irregularities."
      ],
      "metadata": {
        "id": "iv6ro40sphqO"
      }
    },
    {
      "cell_type": "markdown",
      "source": [
        "##### 2. What is/are the insight(s) found from the chart?"
      ],
      "metadata": {
        "id": "r2jJGEOYphqO"
      }
    },
    {
      "cell_type": "markdown",
      "source": [
        "Check if there are clear peaks or valleys in the histogram. For example, we might see higher booking counts in the summer months and lower counts in the winter months, indicating a seasonal pattern.\n",
        "\n",
        "Jan,Feb are the months when the hotels are typically busiest, and you might want to allocate more resources or plan promotions during these times.\n",
        "\n",
        "May,Jun,Jul are potentially the hotel's low-season months, and you might consider offering special deals or marketing campaigns to attract guests during these times."
      ],
      "metadata": {
        "id": "Po6ZPi4hphqO"
      }
    },
    {
      "cell_type": "markdown",
      "source": [
        "##### 3. Will the gained insights help creating a positive business impact?\n",
        "Are there any insights that lead to negative growth? Justify with specific reason."
      ],
      "metadata": {
        "id": "b0JNsNcRphqO"
      }
    },
    {
      "cell_type": "markdown",
      "source": [
        "Positive Growth:\n",
        "\n",
        "Can allocate more marketing budget and staff during high-season months to maximize revenue. This targeted approach can lead to increased bookings and revenue during peak times.\n",
        "\n",
        "Low-occupancy months can prompt you to create special promotions or packages to attract guests. Discounted rates, bundled services, or unique experiences can entice visitors during these periods.With insights into booking patterns, you can enhance the guest experience. During high-season months, focus on efficient check-ins and service delivery to handle the increased volume. During low-season months, provide personalized experiences to make guests feel valued.\n",
        "\n",
        "\n",
        "Negative Growth:\n",
        "\n",
        "\n",
        "If the hotel becomes overly reliant on revenue generated during high-season months, it may struggle to cover operational costs during low-season periods. This can lead to financial instability.\n",
        "\n",
        "\n",
        "Overcrowding during peak months can negatively impact customer satisfaction. Guests may have a less enjoyable experience if the hotel is too crowded, leading to negative reviews and reduced repeat business."
      ],
      "metadata": {
        "id": "xvSq8iUTphqO"
      }
    },
    {
      "cell_type": "markdown",
      "source": [
        "#### Chart - 8--Grouped bar plot for is_canceled against categorical feature like customertype to see cancellation patterns."
      ],
      "metadata": {
        "id": "BZR9WyysphqO"
      }
    },
    {
      "cell_type": "code",
      "source": [
        "# Chart - 8 visualization code\n",
        "# Assuming you have your dataset loaded as a DataFrame df\n",
        "plt.figure(figsize=(12, 6))\n",
        "\n",
        "# Choose a categorical feature to analyze (e.g., 'customer_type' or 'meal')\n",
        "categorical_feature = 'customer_type'\n",
        "\n",
        "# Create a grouped bar plot\n",
        "sns.countplot(data=data, x=categorical_feature, hue='is_canceled', palette=['green', 'red'])\n",
        "plt.xlabel(categorical_feature.capitalize())\n",
        "plt.ylabel('Count')\n",
        "plt.title(f'Distribution of Cancellation Status by {categorical_feature.capitalize()}')\n",
        "plt.legend(title='Cancellation Status', labels=['Not Canceled', 'Canceled'])\n",
        "plt.xticks(rotation=45)  # Rotate x-axis labels for better readability if needed\n",
        "\n",
        "plt.show()"
      ],
      "metadata": {
        "id": "TdPTWpAVphqO"
      },
      "execution_count": null,
      "outputs": []
    },
    {
      "cell_type": "markdown",
      "source": [
        "##### 1. Why did you pick the specific chart?"
      ],
      "metadata": {
        "id": "jj7wYXLtphqO"
      }
    },
    {
      "cell_type": "markdown",
      "source": [
        "Grouped bar plots are particularly useful to compare categorical data (e.g., customer types or meal options) across multiple categories.To understand how different categorical factors influence booking cancellations. A grouped bar plot allows to see, for each category, the proportion of bookings that were canceled and those that were not canceled. This helps in identifying which categories have higher or lower cancellation rates."
      ],
      "metadata": {
        "id": "Ob8u6rCTphqO"
      }
    },
    {
      "cell_type": "markdown",
      "source": [
        "##### 2. What is/are the insight(s) found from the chart?"
      ],
      "metadata": {
        "id": "eZrbJ2SmphqO"
      }
    },
    {
      "cell_type": "markdown",
      "source": [
        "Business travelers might have a lower cancellation rate compared to transient or group travelers.\n",
        "\n",
        "Can see there are specific meal options (e.g., breakfast included, half-board, full-board) that are associated with higher or lower cancellation rates. This insight could help in menu planning or pricing strategies.Understanding cancellation patterns can inform marketing efforts. For instance, finding that leisure travelers tend to cancel more often when breakfast is included, you might tailor promotions or incentives for this group."
      ],
      "metadata": {
        "id": "mZtgC_hjphqO"
      }
    },
    {
      "cell_type": "markdown",
      "source": [
        "##### 3. Will the gained insights help creating a positive business impact?\n",
        "Are there any insights that lead to negative growth? Justify with specific reason."
      ],
      "metadata": {
        "id": "rFu4xreNphqO"
      }
    },
    {
      "cell_type": "markdown",
      "source": [
        "Positive Growth:\n",
        "\n",
        "Understanding which customer segments are less likely to cancel can help in pricing optimization.Can adjust prices or offer discounts to incentivize bookings from these segments, potentially increasing revenue.\n",
        "\n",
        " By aligning theofferings with customer preferences and behaviors, can improve the overall customer experience. This can lead to positive reviews, repeat business, and positive word-of-mouth marketing.\n",
        "\n",
        "\n",
        "Negative Growth:\n",
        "\n",
        "\n",
        "Failing to optimize pricing based on cancellation patterns may result in missed revenue opportunities. If you consistently underprice or overprice certain customer segments, it can impact the bottom line.May waste resources targeting customer segments with high cancellation rates, leading to a lower return on investment."
      ],
      "metadata": {
        "id": "ey_0qi68phqO"
      }
    },
    {
      "cell_type": "markdown",
      "source": [
        "#### Chart - 9"
      ],
      "metadata": {
        "id": "YJ55k-q6phqO"
      }
    },
    {
      "cell_type": "code",
      "source": [
        "# Chart - 9 visualization code"
      ],
      "metadata": {
        "id": "B2aS4O1ophqO"
      },
      "execution_count": null,
      "outputs": []
    },
    {
      "cell_type": "markdown",
      "source": [
        "##### 1. Why did you pick the specific chart?"
      ],
      "metadata": {
        "id": "gCFgpxoyphqP"
      }
    },
    {
      "cell_type": "markdown",
      "source": [
        "Answer Here."
      ],
      "metadata": {
        "id": "TVxDimi2phqP"
      }
    },
    {
      "cell_type": "markdown",
      "source": [
        "##### 2. What is/are the insight(s) found from the chart?"
      ],
      "metadata": {
        "id": "OVtJsKN_phqQ"
      }
    },
    {
      "cell_type": "markdown",
      "source": [
        "Answer Here"
      ],
      "metadata": {
        "id": "ngGi97qjphqQ"
      }
    },
    {
      "cell_type": "markdown",
      "source": [
        "##### 3. Will the gained insights help creating a positive business impact?\n",
        "Are there any insights that lead to negative growth? Justify with specific reason."
      ],
      "metadata": {
        "id": "lssrdh5qphqQ"
      }
    },
    {
      "cell_type": "markdown",
      "source": [
        "Answer Here"
      ],
      "metadata": {
        "id": "tBpY5ekJphqQ"
      }
    },
    {
      "cell_type": "markdown",
      "source": [
        "#### Chart - 10"
      ],
      "metadata": {
        "id": "U2RJ9gkRphqQ"
      }
    },
    {
      "cell_type": "code",
      "source": [
        "# Chart - 10 visualization code"
      ],
      "metadata": {
        "id": "GM7a4YP4phqQ"
      },
      "execution_count": null,
      "outputs": []
    },
    {
      "cell_type": "markdown",
      "source": [
        "##### 1. Why did you pick the specific chart?"
      ],
      "metadata": {
        "id": "1M8mcRywphqQ"
      }
    },
    {
      "cell_type": "markdown",
      "source": [
        "Answer Here."
      ],
      "metadata": {
        "id": "8agQvks0phqQ"
      }
    },
    {
      "cell_type": "markdown",
      "source": [
        "##### 2. What is/are the insight(s) found from the chart?"
      ],
      "metadata": {
        "id": "tgIPom80phqQ"
      }
    },
    {
      "cell_type": "markdown",
      "source": [
        "Answer Here"
      ],
      "metadata": {
        "id": "Qp13pnNzphqQ"
      }
    },
    {
      "cell_type": "markdown",
      "source": [
        "##### 3. Will the gained insights help creating a positive business impact?\n",
        "Are there any insights that lead to negative growth? Justify with specific reason."
      ],
      "metadata": {
        "id": "JMzcOPDDphqR"
      }
    },
    {
      "cell_type": "markdown",
      "source": [
        "Answer Here"
      ],
      "metadata": {
        "id": "R4Ka1PC2phqR"
      }
    },
    {
      "cell_type": "markdown",
      "source": [
        "#### Chart - 11"
      ],
      "metadata": {
        "id": "x-EpHcCOp1ci"
      }
    },
    {
      "cell_type": "code",
      "source": [
        "# Chart - 11 visualization code"
      ],
      "metadata": {
        "id": "mAQTIvtqp1cj"
      },
      "execution_count": null,
      "outputs": []
    },
    {
      "cell_type": "markdown",
      "source": [
        "##### 1. Why did you pick the specific chart?"
      ],
      "metadata": {
        "id": "X_VqEhTip1ck"
      }
    },
    {
      "cell_type": "markdown",
      "source": [
        "Answer Here."
      ],
      "metadata": {
        "id": "-vsMzt_np1ck"
      }
    },
    {
      "cell_type": "markdown",
      "source": [
        "##### 2. What is/are the insight(s) found from the chart?"
      ],
      "metadata": {
        "id": "8zGJKyg5p1ck"
      }
    },
    {
      "cell_type": "markdown",
      "source": [
        "Answer Here"
      ],
      "metadata": {
        "id": "ZYdMsrqVp1ck"
      }
    },
    {
      "cell_type": "markdown",
      "source": [
        "##### 3. Will the gained insights help creating a positive business impact?\n",
        "Are there any insights that lead to negative growth? Justify with specific reason."
      ],
      "metadata": {
        "id": "PVzmfK_Ep1ck"
      }
    },
    {
      "cell_type": "markdown",
      "source": [
        "Answer Here"
      ],
      "metadata": {
        "id": "druuKYZpp1ck"
      }
    },
    {
      "cell_type": "markdown",
      "source": [
        "#### Chart - 12"
      ],
      "metadata": {
        "id": "n3dbpmDWp1ck"
      }
    },
    {
      "cell_type": "code",
      "source": [
        "# Chart - 12 visualization code"
      ],
      "metadata": {
        "id": "bwevp1tKp1ck"
      },
      "execution_count": null,
      "outputs": []
    },
    {
      "cell_type": "markdown",
      "source": [
        "##### 1. Why did you pick the specific chart?"
      ],
      "metadata": {
        "id": "ylSl6qgtp1ck"
      }
    },
    {
      "cell_type": "markdown",
      "source": [
        "Answer Here."
      ],
      "metadata": {
        "id": "m2xqNkiQp1ck"
      }
    },
    {
      "cell_type": "markdown",
      "source": [
        "##### 2. What is/are the insight(s) found from the chart?"
      ],
      "metadata": {
        "id": "ZWILFDl5p1ck"
      }
    },
    {
      "cell_type": "markdown",
      "source": [
        "Answer Here"
      ],
      "metadata": {
        "id": "x-lUsV2mp1ck"
      }
    },
    {
      "cell_type": "markdown",
      "source": [
        "##### 3. Will the gained insights help creating a positive business impact?\n",
        "Are there any insights that lead to negative growth? Justify with specific reason."
      ],
      "metadata": {
        "id": "M7G43BXep1ck"
      }
    },
    {
      "cell_type": "markdown",
      "source": [
        "Answer Here"
      ],
      "metadata": {
        "id": "5wwDJXsLp1cl"
      }
    },
    {
      "cell_type": "markdown",
      "source": [
        "#### Chart - 13"
      ],
      "metadata": {
        "id": "Ag9LCva-p1cl"
      }
    },
    {
      "cell_type": "code",
      "source": [
        "# Chart - 13 visualization code"
      ],
      "metadata": {
        "id": "EUfxeq9-p1cl"
      },
      "execution_count": null,
      "outputs": []
    },
    {
      "cell_type": "markdown",
      "source": [
        "##### 1. Why did you pick the specific chart?"
      ],
      "metadata": {
        "id": "E6MkPsBcp1cl"
      }
    },
    {
      "cell_type": "markdown",
      "source": [
        "Answer Here."
      ],
      "metadata": {
        "id": "V22bRsFWp1cl"
      }
    },
    {
      "cell_type": "markdown",
      "source": [
        "##### 2. What is/are the insight(s) found from the chart?"
      ],
      "metadata": {
        "id": "2cELzS2fp1cl"
      }
    },
    {
      "cell_type": "markdown",
      "source": [
        "Answer Here"
      ],
      "metadata": {
        "id": "ozQPc2_Ip1cl"
      }
    },
    {
      "cell_type": "markdown",
      "source": [
        "##### 3. Will the gained insights help creating a positive business impact?\n",
        "Are there any insights that lead to negative growth? Justify with specific reason."
      ],
      "metadata": {
        "id": "3MPXvC8up1cl"
      }
    },
    {
      "cell_type": "markdown",
      "source": [
        "Answer Here"
      ],
      "metadata": {
        "id": "GL8l1tdLp1cl"
      }
    },
    {
      "cell_type": "markdown",
      "source": [
        "#### Chart - 14 - Correlation Heatmap"
      ],
      "metadata": {
        "id": "NC_X3p0fY2L0"
      }
    },
    {
      "cell_type": "code",
      "source": [
        "# Correlation Heatmap visualization code\n",
        "#correleation plot\n",
        "correlated_data=data[['lead_time','previous_cancellations','previous_bookings_not_canceled','booking_changes','days_in_waiting_list','total_members','total_of_special_requests','required_car_parking_spaces','adr','total_nights']]\n",
        "corr=correlated_data.corr()\n",
        "fig,ax=plt.subplots(figsize=(12,6))\n",
        "sns.heatmap(corr, annot=True, fmt='.2f', annot_kws={'size': 7},square=True)\n",
        "plt.title(\"Correlations \")\n",
        "plt.show()"
      ],
      "metadata": {
        "id": "xyC9zolEZNRQ"
      },
      "execution_count": null,
      "outputs": []
    },
    {
      "cell_type": "markdown",
      "source": [
        "##### 1. Why did you pick the specific chart?"
      ],
      "metadata": {
        "id": "UV0SzAkaZNRQ"
      }
    },
    {
      "cell_type": "markdown",
      "source": [
        "*In here the aim is to know is there any correlation between the columns in the dataset.So, to get the results,only the numerical values ie.which columns falls* *into the numerical order are taken in account.So,the \"correlated_data\" variable is used to store the data of the numerical data.*\n",
        "\n",
        "*In this case the Heatmaps are the appropriate ones for the execution and visulization of the correlated data.*"
      ],
      "metadata": {
        "id": "DVPuT8LYZNRQ"
      }
    },
    {
      "cell_type": "markdown",
      "source": [
        "##### 2. What is/are the insight(s) found from the chart?"
      ],
      "metadata": {
        "id": "YPEH6qLeZNRQ"
      }
    },
    {
      "cell_type": "markdown",
      "source": [
        "Same features of the data are always fall under the value of 1 as correlated value.\n",
        "\n",
        "Apart from that the lead_time and total_nights are correlated to each other.It could suggest that for extended hotel stays, individuals tend to make their reservations relatively close to their actual check-in dates.\n",
        "\n",
        "Then,the adr and total_member are also correlated to each other,which shows more the number of people stay in and the more number of revene the hotel can make"
      ],
      "metadata": {
        "id": "bfSqtnDqZNRR"
      }
    },
    {
      "cell_type": "markdown",
      "source": [
        "#### Chart - 15 - Pair Plot"
      ],
      "metadata": {
        "id": "q29F0dvdveiT"
      }
    },
    {
      "cell_type": "code",
      "source": [
        "# Pair Plot visualization code\n",
        "columns_of_interest = ['lead_time', 'total_nights','total_members']\n",
        "\n",
        "# Create a DataFrame with the selected columns\n",
        "subset_df = data[columns_of_interest]\n",
        "\n",
        "# Create the pair plot\n",
        "sns.pairplot(subset_df, diag_kind='kde')\n",
        "plt.show()\n",
        "\n",
        "\n",
        "\n",
        "\n",
        "\n",
        "\n"
      ],
      "metadata": {
        "id": "o58-TEIhveiU"
      },
      "execution_count": null,
      "outputs": []
    },
    {
      "cell_type": "markdown",
      "source": [
        "##### 1. Why did you pick the specific chart?"
      ],
      "metadata": {
        "id": "EXh0U9oCveiU"
      }
    },
    {
      "cell_type": "markdown",
      "source": [
        "I recommended creating a pair plot for the selected columns 'lead_time', 'total_nights', and 'total_members' because a pair plot is a suitable choice for visualizing relationships and distributions between multiple numerical variables.\n",
        "\n",
        " A pair plot includes scatterplots for each combination of variables, which allows visually assess how two variables are related. Scatterplots are valuable for identifying patterns, trends, and potential correlations between variables.Pair plots are relatively easy to interpret, making them suitable for exploratory data analysis."
      ],
      "metadata": {
        "id": "eMmPjTByveiU"
      }
    },
    {
      "cell_type": "markdown",
      "source": [
        "##### 2. What is/are the insight(s) found from the chart?"
      ],
      "metadata": {
        "id": "22aHeOlLveiV"
      }
    },
    {
      "cell_type": "markdown",
      "source": [
        "Lead Time vs. Total Nights:\n",
        "\n",
        "Positive Relationship: If you observe an upward trend in the scatterplot between 'lead_time' and 'total_nights,' it suggests that as lead time increases, guests tend to stay for a longer duration.\n",
        "\n",
        "Total Nights vs. Total Members:\n",
        "\n",
        "Accommodation Size: The scatterplot between 'total_nights' and 'total_members' can reveal insights about the size of accommodations booked. For example, you may notice that longer stays tend to involve more total members, indicating larger group bookings.\n",
        "\n",
        "Lead Time vs. Total Members:\n",
        "\n",
        "Group Bookings: Explore whether there is a relationship between lead time and the number of members. You might find that group bookings tend to have longer lead times compared to individual bookings.\n",
        "\n",
        "While pair plots do not provide correlation coefficients, you can visually assess the strength and direction of associations between variables."
      ],
      "metadata": {
        "id": "uPQ8RGwHveiV"
      }
    },
    {
      "cell_type": "markdown",
      "source": [
        "## **5. Solution to Business Objective**"
      ],
      "metadata": {
        "id": "JcMwzZxoAimU"
      }
    },
    {
      "cell_type": "markdown",
      "source": [
        "#### What do you suggest the client to achieve Business Objective ?\n",
        "Explain Briefly."
      ],
      "metadata": {
        "id": "8G2x9gOozGDZ"
      }
    },
    {
      "cell_type": "markdown",
      "source": [
        "\n",
        "•\tCertainly, here are the key recommendations in bullet points for achieving the business objectives based on the hotel bookings data analysis:\n",
        "\n",
        "•\tImplement targeted marketing strategies by leveraging customer segmentation insights.\n",
        "\n",
        "•\tAdopt dynamic pricing strategies based on demand and customer segments.\n",
        "\n",
        "•\tFocus on enhancing customer satisfaction by addressing specific pain points like room preferences and meal choices.\n",
        "\n",
        "•\tOptimize operational processes, including efficient handling of waiting lists and parking allocation.\n",
        "\n",
        "•\tDeploy predictive modeling to forecast booking cancellations and allocate resources proactively.\n",
        "\n",
        "•\tConduct ongoing competitive analysis to stay competitive in the market.\n",
        "\n",
        "•\tEstablish a feedback loop with customers to adapt to evolving needs and preferences.\n",
        "\n",
        "•\tPrioritize data governance and security to protect customer data and ensure compliance.\n",
        "\n",
        "•\tInvest in staff training and development to improve service quality.\n",
        "\n",
        "•\tRegularly monitor performance to assess the effectiveness of strategies.\n",
        "\n",
        "\n",
        "\n"
      ],
      "metadata": {
        "id": "pASKb0qOza21"
      }
    },
    {
      "cell_type": "markdown",
      "source": [
        "# **Conclusion**"
      ],
      "metadata": {
        "id": "gCX9965dhzqZ"
      }
    },
    {
      "cell_type": "markdown",
      "source": [
        "In conclusion, my exploratory data analysis (EDA) of hotel bookings revealed vital insights into booking patterns and customer behaviors. By carefully examining a dataset containing 35 columns of booking information, I uncovered significant trends and factors that influence hotel reservations. This analysis illuminated the busiest booking periods and highlighted specific days of the week when reservations are most common. Moreover, a close examination of booking cancellations, customer types, meal preferences, and operational aspects provided valuable knowledge that can inform strategic decision-making. Additionally, the potential for predictive modeling within the dataset hints at exciting opportunities for the future. Overall, the outcomes of this EDA offer actionable insights that can guide pricing strategies, marketing efforts, and enhancements to customer satisfaction, ultimately contributing to the hotel's success and operational efficiency.\n",
        "\n",
        "(1) Around 60% bookings are for City hotel and 40% bookings are for Resort hotel, therefore City Hotel is busier than Resort hotel. Also the overall adr of City hotel is slightly higher than Resort hotel.\n",
        "\n",
        "(2) Mostly guests stay for less than 5 days in hotel and for longer stays Resort hotel is preferred.\n",
        "\n",
        "(3) Both hotels have significantly higher booking cancellation rates and very few guests less than 3 % return for another booking in City hotel. 5% guests return for stay in Resort hotel.\n",
        "\n",
        "(4) Most of the guests came from european countries, with most of guests coming from Portugal.\n",
        "\n",
        "(5) Guests use different channels for making bookings out of which most preferred way is TA/TO.\n",
        "\n",
        "(6) For hotels higher adr deals come via GDS channel, so hotels should increase their popularity on this channel.\n",
        "\n",
        "(7) Almost 30% of bookings via TA/TO are cancelled.\n",
        "\n",
        "(8) Not getting same room as reserved, longer lead time and waiting time do not affect cancellation of bookings. Although different room allotment do lowers the adr.\n",
        "\n",
        "(9) July- August are the most busier and profitable months for both of hotels\n",
        "\n",
        "\n",
        "(10) For customers, generally the longer stays (more than 15 days) can result in better deals in terms of low adr.\n"
      ],
      "metadata": {
        "id": "Fjb1IsQkh3yE"
      }
    },
    {
      "cell_type": "markdown",
      "source": [
        "### ***Hurrah! You have successfully completed your EDA Capstone Project !!!***"
      ],
      "metadata": {
        "id": "gIfDvo9L0UH2"
      }
    }
  ]
}